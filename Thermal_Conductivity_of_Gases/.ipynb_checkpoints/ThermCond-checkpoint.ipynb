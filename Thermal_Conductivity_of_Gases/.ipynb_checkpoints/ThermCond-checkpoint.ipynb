{
 "cells": [
  {
   "cell_type": "code",
   "execution_count": 16,
   "metadata": {},
   "outputs": [],
   "source": [
    "import numpy as np                                # import packages and give them quick handles since they will be used often\n",
    "import matplotlib.pyplot as plt\n",
    "from scipy import optimize\n",
    "import pandas as pd\n",
    "import math\n",
    "%matplotlib inline"
   ]
  },
  {
   "cell_type": "code",
   "execution_count": 17,
   "metadata": {},
   "outputs": [
    {
     "name": "stdout",
     "output_type": "stream",
     "text": [
      "[[ 0.  -1.6  0.2]\n",
      " [ 1.   0.6  0.2]\n",
      " [ 3.   4.8  0.2]\n",
      " [ 4.2  7.   0.2]]\n"
     ]
    }
   ],
   "source": [
    "AirData = np.genfromtxt('power vs temp_dif data', delimiter=',',skip_header=1)\n",
    "print(AirData)"
   ]
  },
  {
   "cell_type": "code",
   "execution_count": 18,
   "metadata": {},
   "outputs": [
    {
     "name": "stdout",
     "output_type": "stream",
     "text": [
      "[0.0, 1.0, 3.0, 4.2]\n",
      "[-1.6, 0.6, 4.8, 7.0]\n",
      "[0.2, 0.2, 0.2, 0.2]\n"
     ]
    }
   ],
   "source": [
    "power = []\n",
    "temp_dif = []\n",
    "err = []\n",
    "\n",
    "for i in range(len(AirData)):\n",
    "    power.append(AirData[i][0])\n",
    "    temp_dif.append(AirData[i][1])\n",
    "    err.append(AirData[i][2])\n",
    "    \n",
    "print(power)\n",
    "print(temp_dif)\n",
    "print(err)"
   ]
  },
  {
   "cell_type": "code",
   "execution_count": 27,
   "metadata": {},
   "outputs": [
    {
     "name": "stdout",
     "output_type": "stream",
     "text": [
      "Slope: 2.0554016631201826 +- 0.04646258814831406\n",
      "Intercept: -1.5135734093963742 +- 0.12213564176031275\n"
     ]
    },
    {
     "data": {
      "text/plain": [
       "[<matplotlib.lines.Line2D at 0x7f2576c8fcc0>]"
      ]
     },
     "execution_count": 27,
     "metadata": {},
     "output_type": "execute_result"
    },
    {
     "data": {
      "image/png": "[encoded data removed]",
      "text/plain": [
       "<Figure size 432x288 with 1 Axes>"
      ]
     },
     "metadata": {
      "needs_background": "light"
     },
     "output_type": "display_data"
    }
   ],
   "source": [
    "def func(x,m,b):                                 \n",
    "    return m*x+b                                \n",
    " \n",
    "initialguess = [1,1]                     \n",
    "                                        \n",
    "fit, covariance = optimize.curve_fit(            \n",
    "        func,                                    \n",
    "        power,                                  \n",
    "        temp_dif,\n",
    "        initialguess,\n",
    "        err)   \n",
    "\n",
    "print(\"Slope:\",fit[0],\"+-\",np.sqrt(covariance[0][0]))    \n",
    "print(\"Intercept:\",fit[1],\"+-\",np.sqrt(covariance[1][1])) \n",
    "\n",
    "powerfit=np.linspace(min(power), max(power), 100) \n",
    "func_plot=func(powerfit,*fit)    \n",
    "\n",
    "plt.xlabel('(W)',fontsize = 8)\n",
    "plt.ylabel('Degrees Celcius',fontsize = 8)\n",
    "\n",
    "plt.plot(power,temp_dif,'x')\n",
    "plt.errorbar(power, temp_dif, err, fmt='k.')\n",
    "\n",
    "plt.plot(powerfit, func_plot) \n"
   ]
  },
  {
   "cell_type": "code",
   "execution_count": 28,
   "metadata": {},
   "outputs": [
    {
     "name": "stdout",
     "output_type": "stream",
     "text": [
      "0.02605852811491888 +- 0.0005890559890453608\n"
     ]
    }
   ],
   "source": [
    "# The slope of our line is a constant (see manual). Solve for lambda:\n",
    "\n",
    "b = 0.02075\n",
    "a = 0.01905\n",
    "L = 0.2540\n",
    "\n",
    "conductivity = math.log(b/a)/(2*math.pi*L*fit[0])\n",
    "unc = math.log(b/a)/(2*math.pi*L*(fit[0]**2))*(np.sqrt(covariance[0][0]))\n",
    "print(conductivity,'+-',unc)\n"
   ]
  },
  {
   "cell_type": "code",
   "execution_count": null,
   "metadata": {},
   "outputs": [],
   "source": [
    "PressureData = np.genfromtxt('Pressure csv 1.txt', delimiter=',',skip_header=1)\n",
    "print(PressureData[0])"
   ]
  }
 ],
 "metadata": {
  "kernelspec": {
   "display_name": "Python 3",
   "language": "python",
   "name": "python3"
  },
  "language_info": {
   "codemirror_mode": {
    "name": "ipython",
    "version": 3
   },
   "file_extension": ".py",
   "mimetype": "text/x-python",
   "name": "python",
   "nbconvert_exporter": "python",
   "pygments_lexer": "ipython3",
   "version": "3.6.8"
  }
 },
 "nbformat": 4,
 "nbformat_minor": 2
}
