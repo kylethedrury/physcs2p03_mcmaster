{
 "cells": [
  {
   "cell_type": "code",
   "execution_count": 1,
   "metadata": {},
   "outputs": [],
   "source": [
    "import numpy as np                                # import packages and give them quick handles since they will be used often\n",
    "import matplotlib.pyplot as plt\n",
    "from scipy import optimize\n",
    "import pandas as pd\n",
    "import math\n",
    "%matplotlib inline"
   ]
  },
  {
   "cell_type": "code",
   "execution_count": 3,
   "metadata": {},
   "outputs": [],
   "source": [
    "temperature = [77,273,373]\n",
    "pressure = [131, 411, 560]"
   ]
  },
  {
   "cell_type": "code",
   "execution_count": 9,
   "metadata": {},
   "outputs": [
    {
     "name": "stdout",
     "output_type": "stream",
     "text": [
      "Slope: 1.4464537755831897 +- 0.015330133255537193\n",
      "Intercept: 18.737973418057987 +- 4.147521615630713\n"
     ]
    },
    {
     "data": {
      "text/plain": [
       "[<matplotlib.lines.Line2D at 0x7f9598470fd0>]"
      ]
     },
     "execution_count": 9,
     "metadata": {},
     "output_type": "execute_result"
    },
    {
     "data": {
      "image/png": "[encoded data removed]",
      "text/plain": [
       "<Figure size 432x288 with 1 Axes>"
      ]
     },
     "metadata": {
      "needs_background": "light"
     },
     "output_type": "display_data"
    }
   ],
   "source": [
    "def func(x,m,b):                                 \n",
    "    return m*x+b                                \n",
    " \n",
    "initialguess = [1,1]                     \n",
    "                                        \n",
    "fit, covariance = optimize.curve_fit(            \n",
    "        func,                                    \n",
    "        temperature,                                  \n",
    "        pressure,\n",
    "        initialguess,\n",
    "        )   \n",
    "\n",
    "print(\"Slope:\",fit[0],\"+-\",np.sqrt(covariance[0][0]))    \n",
    "print(\"Intercept:\",fit[1],\"+-\",np.sqrt(covariance[1][1])) \n",
    "\n",
    "slope = fit[0]\n",
    "slope_unc = np.sqrt(covariance[0][0])\n",
    "intercept = fit[1]\n",
    "intercept_unc = np.sqrt(covariance[1][1])\n",
    "\n",
    "tempfit=np.linspace(min(temperature), max(temperature), 100) \n",
    "func_plot=func(powerfit,*fit)    \n",
    "\n",
    "plt.xlabel('Degrees Celcius',fontsize = 8)\n",
    "plt.ylabel('Pressure',fontsize = 8)\n",
    "\n",
    "plt.plot(temperature,pressure,'x')\n",
    "\n",
    "plt.plot(tempfit, func_plot) \n"
   ]
  },
  {
   "cell_type": "code",
   "execution_count": 7,
   "metadata": {},
   "outputs": [
    {
     "name": "stdout",
     "output_type": "stream",
     "text": [
      "[[ 2.35012986e-04 -5.66381317e-02]\n",
      " [-5.66381317e-02  1.72019356e+01]]\n"
     ]
    }
   ],
   "source": [
    "print(covariance)"
   ]
  },
  {
   "cell_type": "code",
   "execution_count": 11,
   "metadata": {},
   "outputs": [
    {
     "name": "stdout",
     "output_type": "stream",
     "text": [
      "-12.954422556989837\n"
     ]
    }
   ],
   "source": [
    "print(-(intercept)/slope)"
   ]
  },
  {
   "cell_type": "code",
   "execution_count": 16,
   "metadata": {},
   "outputs": [
    {
     "name": "stdout",
     "output_type": "stream",
     "text": [
      "-0.8907879452866642\n"
     ]
    }
   ],
   "source": [
    "print(covariance[1][0]/np.sqrt((covariance[0][0]*covariance[1][1])))"
   ]
  }
 ],
 "metadata": {
  "kernelspec": {
   "display_name": "Python 3",
   "language": "python",
   "name": "python3"
  },
  "language_info": {
   "codemirror_mode": {
    "name": "ipython",
    "version": 3
   },
   "file_extension": ".py",
   "mimetype": "text/x-python",
   "name": "python",
   "nbconvert_exporter": "python",
   "pygments_lexer": "ipython3",
   "version": "3.6.8"
  }
 },
 "nbformat": 4,
 "nbformat_minor": 2
}
