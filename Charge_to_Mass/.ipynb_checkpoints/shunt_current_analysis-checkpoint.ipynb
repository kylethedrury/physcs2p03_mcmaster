{
 "cells": [
  {
   "cell_type": "code",
   "execution_count": 55,
   "metadata": {},
   "outputs": [],
   "source": [
    "# IMPORTING PACKAGES\n",
    "\n",
    "import numpy as np                                # import packages and give them quick handles since they will be used often\n",
    "import matplotlib.pyplot as plt\n",
    "from scipy import optimize\n",
    "import pandas as pd\n",
    "import math\n",
    "%matplotlib inline"
   ]
  },
  {
   "cell_type": "code",
   "execution_count": 56,
   "metadata": {},
   "outputs": [
    {
     "name": "stdout",
     "output_type": "stream",
     "text": [
      "[[27.529 26.52  22.501 19.482 17.466 15.534]\n",
      " [30.547 28.593 24.502 21.493 19.48  17.466]\n",
      " [33.526 31.556 26.521 23.512 20.489 18.472]\n",
      " [36.555 33.526 28.539 25.512 21.494 19.481]\n",
      " [38.572 35.547 30.55  26.522 23.512 20.49 ]\n",
      " [40.592 37.564 32.568 27.53  24.504 22.502]\n",
      " [42.599 39.583 33.531 29.554 25.517 23.513]]\n",
      "42\n",
      "42\n"
     ]
    }
   ],
   "source": [
    "# IMPORTING VOLTAGE DATA\n",
    "\n",
    "Voltage_Data = np.genfromtxt('voltagedata.txt', delimiter='\\t', skip_header=1)\n",
    "print(Voltage_Data)\n",
    "\n",
    "voltage_err = []\n",
    "voltage_data = np.concatenate((Voltage_Data))\n",
    "\n",
    "for i in range(6*len(Voltage_Data)):\n",
    "   voltage_err.append(0.0005)\n",
    "        \n",
    "# print(voltage_err)\n",
    "print(len(voltage_err))\n",
    "# print(voltage_data)\n",
    "print(len(voltage_data))"
   ]
  },
  {
   "cell_type": "code",
   "execution_count": 61,
   "metadata": {},
   "outputs": [],
   "source": [
    "resistance = 10 # units of mO\n",
    "err = 0.01"
   ]
  },
  {
   "cell_type": "code",
   "execution_count": 75,
   "metadata": {},
   "outputs": [
    {
     "name": "stdout",
     "output_type": "stream",
     "text": [
      "42 42\n",
      "[2.7529, 2.652, 2.2501, 1.9482, 1.7466000000000002, 1.5534000000000001, 3.0547, 2.8593, 2.4501999999999997, 2.1492999999999998, 1.948, 1.7466000000000002, 3.3526000000000002, 3.1556, 2.6521, 2.3512, 2.0489, 1.8472000000000002, 3.6555, 3.3526000000000002, 2.8539000000000003, 2.5512, 2.1494, 1.9481000000000002, 3.8572, 3.5546999999999995, 3.055, 2.6521999999999997, 2.3512, 2.049, 4.0592, 3.7564, 3.2567999999999997, 2.753, 2.4504, 2.2502, 4.2599, 3.9583, 3.3531, 2.9554, 2.5517, 2.3513]\n"
     ]
    }
   ],
   "source": [
    "# ACQUIRING CURRENT DATA\n",
    "\n",
    "current_data = []\n",
    "current_err = []\n",
    "\n",
    "resistance_data = []\n",
    "resistance_err = []\n",
    "\n",
    "def current_err_func(R, V, dR, dV):\n",
    "    return (dR/R + V*dR/(R**2))\n",
    "\n",
    "for i in range(len(voltage_data)):\n",
    "    \n",
    "    resistance_data.append(resistance)\n",
    "    resistance_err.append(err)\n",
    "        \n",
    "    current_data.append(voltage_data[i]/resistance_data[i])\n",
    "    current_err.append(current_err_func(resistance_data[i], voltage_data[i], resistance_err[i], voltage_err[i]))\n",
    "    \n",
    "print(len(current_data), len(current_err))\n",
    "# print(current_data)"
   ]
  },
  {
   "cell_type": "code",
   "execution_count": 76,
   "metadata": {},
   "outputs": [],
   "source": [
    "# ANODE VOLTAGE ARRAY\n",
    "\n",
    "voltage = []\n",
    "\n",
    "for i in range(6):\n",
    "    voltage.append(20)\n",
    "for i in range(6):\n",
    "    voltage.append(25)\n",
    "for i in range(6):\n",
    "    voltage.append(30)\n",
    "for i in range(6):\n",
    "    voltage.append(35)\n",
    "for i in range(6):\n",
    "    voltage.append(40)\n",
    "for i in range(6):\n",
    "    voltage.append(45)\n",
    "for i in range(6):\n",
    "    voltage.append(50)\n",
    "    \n",
    "# print(voltage)"
   ]
  },
  {
   "cell_type": "code",
   "execution_count": 68,
   "metadata": {},
   "outputs": [
    {
     "name": "stdout",
     "output_type": "stream",
     "text": [
      "42\n"
     ]
    }
   ],
   "source": [
    "# RADII ARRAY\n",
    "\n",
    "radii = [0.06/2, 0.0648/2, 0.0775/2, 0.0902/2, 0.1030/2, 0.1154/2, 0.06/2, 0.0648/2, 0.0775/2, 0.0902/2, 0.1030/2, 0.1154/2, 0.06/2, 0.0648/2, 0.0775/2, 0.0902/2, 0.1030/2, 0.1154/2, 0.06/2, 0.0648/2, 0.0775/2, 0.0902/2, 0.1030/2, 0.1154/2, 0.06/2, 0.0648/2, 0.0775/2, 0.0902/2, 0.1030/2, 0.1154/2, 0.06/2, 0.0648/2, 0.0775/2, 0.0902/2, 0.1030/2, 0.1154/2, 0.06/2, 0.0648/2, 0.0775/2, 0.0902/2, 0.1030/2, 0.1154/2]\n",
    "radii_inverse_square = []\n",
    "\n",
    "for i in range(len(radii)):\n",
    "    radii_inverse_square.append(radii[i]**(-2))\n",
    "    \n",
    "print(len(radii_inverse_square))\n",
    "\n",
    "constant = 1.927259344e-8 # based on well defined constants provided in the report related to the apparatus"
   ]
  },
  {
   "cell_type": "code",
   "execution_count": 101,
   "metadata": {},
   "outputs": [
    {
     "name": "stdout",
     "output_type": "stream",
     "text": [
      "42 42\n"
     ]
    }
   ],
   "source": [
    "y_data.clear()\n",
    "y_err.clear()\n",
    "\n",
    "y_data = []\n",
    "y_err = []\n",
    "\n",
    "def y_err_func(voltage, current, constant, current_error):\n",
    "    return (current**2)*constant*(0.5)/(voltage**2) + 2*current*constant*(current_error)/voltage\n",
    "\n",
    "for i in range(42):\n",
    "        y_data.append(constant*current_data[i]**2/voltage[i])\n",
    "        y_err.append(y_err_func(voltage[i], current_data[i], constant, current_err[i]))\n",
    "        \n",
    "print(len(y_data), len(y_err))\n",
    "# print(radii_inverse_square)\n",
    "# print(y_data)\n",
    "# print(y_err)"
   ]
  },
  {
   "cell_type": "code",
   "execution_count": 102,
   "metadata": {},
   "outputs": [
    {
     "data": {
      "image/png": "[encoded data removed]",
      "text/plain": [
       "<Figure size 432x288 with 1 Axes>"
      ]
     },
     "metadata": {
      "needs_background": "light"
     },
     "output_type": "display_data"
    },
    {
     "name": "stdout",
     "output_type": "stream",
     "text": [
      "42 42\n"
     ]
    }
   ],
   "source": [
    "plt.plot(radii_inverse_square, y_data, 'x')\n",
    "plt.show()\n",
    "print(len(radii_inverse_square), len(y_data))"
   ]
  },
  {
   "cell_type": "code",
   "execution_count": 106,
   "metadata": {},
   "outputs": [
    {
     "name": "stdout",
     "output_type": "stream",
     "text": [
      "Slope: 6.217202969971812e-12 +- 9.219953203303344e-14\n",
      "Intercept: 2.89315208517645e-10 +- 4.5627460371536246e-11\n"
     ]
    },
    {
     "data": {
      "text/plain": [
       "[<matplotlib.lines.Line2D at 0x7f145a4e3470>]"
      ]
     },
     "execution_count": 106,
     "metadata": {},
     "output_type": "execute_result"
    },
    {
     "data": {
      "image/png": "[encoded data removed]",
      "text/plain": [
       "<Figure size 432x288 with 1 Axes>"
      ]
     },
     "metadata": {
      "needs_background": "light"
     },
     "output_type": "display_data"
    }
   ],
   "source": [
    "def func(x,m,b):                                 \n",
    "    return m*x+b                                \n",
    " \n",
    "initialguess = [1,1]                     \n",
    "                                        \n",
    "fit, covariance = optimize.curve_fit(            \n",
    "        func,                                    \n",
    "        radii_inverse_square,                                  \n",
    "        y_data,\n",
    "        initialguess,\n",
    "        y_err)   \n",
    "\n",
    "print(\"Slope:\",fit[0],\"+-\",np.sqrt(covariance[0][0]))    \n",
    "print(\"Intercept:\",fit[1],\"+-\",np.sqrt(covariance[1][1])) \n",
    "\n",
    "slope = fit[0]\n",
    "slope_unc = np.sqrt(covariance[0][0])\n",
    "\n",
    "radii_inverse_squarefit=np.linspace(min(radii_inverse_square), max(radii_inverse_square), 100) \n",
    "func_plot=func(radii_inverse_squarefit,*fit)    \n",
    "\n",
    "plt.plot(radii_inverse_square, y_data, 'x')\n",
    "plt.errorbar(radii_inverse_square, y_data, y_err, fmt='k.')\n",
    "plt.ylabel('I^2 c/V',fontsize = 8)\n",
    "plt.xlabel('1/r^2',fontsize = 8)\n",
    "\n",
    "plt.plot(radii_inverse_squarefit, func_plot) "
   ]
  },
  {
   "cell_type": "code",
   "execution_count": 107,
   "metadata": {},
   "outputs": [
    {
     "name": "stdout",
     "output_type": "stream",
     "text": [
      "160844033053.1036 +- 2385275927.041055\n"
     ]
    }
   ],
   "source": [
    "ratio = 1/slope\n",
    "ratio_unc = (1/(slope**2))*slope_unc\n",
    "\n",
    "print(ratio, '+-', ratio_unc)"
   ]
  }
 ],
 "metadata": {
  "kernelspec": {
   "display_name": "Python 3",
   "language": "python",
   "name": "python3"
  },
  "language_info": {
   "codemirror_mode": {
    "name": "ipython",
    "version": 3
   },
   "file_extension": ".py",
   "mimetype": "text/x-python",
   "name": "python",
   "nbconvert_exporter": "python",
   "pygments_lexer": "ipython3",
   "version": "3.6.8"
  }
 },
 "nbformat": 4,
 "nbformat_minor": 2
}
