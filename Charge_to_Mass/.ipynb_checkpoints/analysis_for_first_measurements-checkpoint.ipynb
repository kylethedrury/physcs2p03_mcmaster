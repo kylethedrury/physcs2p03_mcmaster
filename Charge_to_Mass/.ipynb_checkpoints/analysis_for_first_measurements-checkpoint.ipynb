{
 "cells": [
  {
   "cell_type": "code",
   "execution_count": 77,
   "metadata": {},
   "outputs": [],
   "source": [
    "# IMPORTING PACKAGES\n",
    "\n",
    "import numpy as np                                # import packages and give them quick handles since they will be used often\n",
    "import matplotlib.pyplot as plt\n",
    "from scipy import optimize\n",
    "import pandas as pd\n",
    "import math\n",
    "%matplotlib inline"
   ]
  },
  {
   "cell_type": "code",
   "execution_count": 188,
   "metadata": {},
   "outputs": [
    {
     "name": "stdout",
     "output_type": "stream",
     "text": [
      "[[20.     4.178  0.3    2.7    2.498  2.198  1.896  1.696  1.504]\n",
      " [25.     4.178  0.3    2.9    2.841  2.399  2.098  1.896  1.696]\n",
      " [30.     4.178  0.3    3.2    3.202  2.699  2.3    1.999  1.798]\n",
      " [35.     4.178  0.3    3.602  3.401  2.901  2.5    2.2    1.999]\n",
      " [40.     4.178  0.3    3.802  3.601  3.001  2.599  2.299  2.098]\n",
      " [45.     4.178  0.3    3.903  3.702  3.202  2.8    2.4    2.198]\n",
      " [50.     4.178  0.3    4.203  3.903  3.299  2.901  2.498  2.999]]\n"
     ]
    }
   ],
   "source": [
    "# IMPORTING DATA\n",
    "\n",
    "Data = np.genfromtxt('mass and charge (first measurements) - Sheet1.csv', delimiter=',', skip_header=1)\n",
    "print(Data)"
   ]
  },
  {
   "cell_type": "code",
   "execution_count": 189,
   "metadata": {},
   "outputs": [
    {
     "name": "stdout",
     "output_type": "stream",
     "text": [
      "[20.0, 25.0, 30.0, 35.0, 40.0, 45.0, 50.0]\n",
      "[4.178, 4.178, 4.178, 4.178, 4.178, 4.178, 4.178]\n",
      "[0.3, 0.3, 0.3, 0.3, 0.3, 0.3, 0.3]\n",
      "[2.7, 2.9, 3.2, 3.602, 3.802, 3.903, 4.203]\n",
      "[2.498, 2.841, 3.202, 3.401, 3.601, 3.702, 3.903]\n",
      "[2.198, 2.399, 2.699, 2.901, 3.001, 3.202, 3.299]\n",
      "[1.896, 2.098, 2.3, 2.5, 2.599, 2.8, 2.901]\n",
      "[1.696, 1.896, 1.999, 2.2, 2.299, 2.4, 2.498]\n",
      "[1.504, 1.696, 1.798, 1.999, 2.098, 2.198, 2.999]\n"
     ]
    }
   ],
   "source": [
    "# INITIALZING ARRAYS FOR ALL DATA\n",
    "\n",
    "anode_voltage = []\n",
    "filament_current = []\n",
    "straight_line = []\n",
    "circle = []\n",
    "bar1 = []\n",
    "bar2 = []\n",
    "bar3 = []\n",
    "bar4 = []\n",
    "bar5 = []\n",
    "\n",
    "for i in range(7):\n",
    "    anode_voltage.append(Data[i][0])\n",
    "    filament_current.append(Data[i][1])\n",
    "    straight_line.append(Data[i][2])\n",
    "    circle.append(Data[i][3])\n",
    "    bar1.append(Data[i][4])\n",
    "    bar2.append(Data[i][5])\n",
    "    bar3.append(Data[i][6])\n",
    "    bar4.append(Data[i][7])\n",
    "    bar5.append(Data[i][8])\n",
    "\n",
    "print(anode_voltage)\n",
    "print(filament_current)\n",
    "print(straight_line)\n",
    "print(circle)\n",
    "print(bar1)\n",
    "print(bar2)\n",
    "print(bar3)\n",
    "print(bar4)\n",
    "print(bar5)"
   ]
  },
  {
   "cell_type": "code",
   "execution_count": 190,
   "metadata": {},
   "outputs": [
    {
     "name": "stdout",
     "output_type": "stream",
     "text": [
      "[1111.111111111111, 952.5986892242038, 665.9729448491155, 491.6396674549289, 377.0383636535018, 300.36434194678145]\n"
     ]
    }
   ],
   "source": [
    "# INITIALIZE THE RADIUS ARRAY AND INVERSE SQUARE ARRAY\n",
    "\n",
    "radii = [0.06/2, 0.0648/2, 0.0775/2, 0.0902/2, 0.1030/2, 0.1154/2]\n",
    "radii_ex = [0.06/2, 0.0648/2, 0.0775/2, 0.0902/2, 0.1030/2, 0.1154/2, 0.06/2, 0.0648/2, 0.0775/2, 0.0902/2, 0.1030/2, 0.1154/2, 0.06/2, 0.0648/2, 0.0775/2, 0.0902/2, 0.1030/2, 0.1154/2, 0.06/2, 0.0648/2, 0.0775/2, 0.0902/2, 0.1030/2, 0.1154/2, 0.06/2, 0.0648/2, 0.0775/2, 0.0902/2, 0.1030/2, 0.1154/2, 0.06/2, 0.0648/2, 0.0775/2, 0.0902/2, 0.1030/2, 0.1154/2, 0.06/2, 0.0648/2, 0.0775/2, 0.0902/2, 0.1030/2, 0.1154/2]\n",
    "radii_inverse_square = []\n",
    "radii_inverse_square_ex = []\n",
    "\n",
    "for i in range(6):\n",
    "    radii_inverse_square.append(radii[i]**(-2))\n",
    "   \n",
    "for i in range(len(radii_ex)):\n",
    "    radii_inverse_square_ex.append(radii_ex[i]**(-2))\n",
    "\n",
    "print(radii_inverse_square)"
   ]
  },
  {
   "cell_type": "code",
   "execution_count": 191,
   "metadata": {},
   "outputs": [
    {
     "name": "stdout",
     "output_type": "stream",
     "text": [
      "[2.7   2.498 2.198 1.896 1.696 1.504 2.9   2.841 2.399 2.098 1.896 1.696\n",
      " 3.2   3.202 2.699 2.3   1.999 1.999 3.602 3.401 2.901 2.5   2.2   1.999\n",
      " 3.802 3.601 3.001 2.599 2.299 2.098 3.903 3.702 3.202 2.8   2.4   2.198\n",
      " 4.203 3.903 3.299 2.901 2.498 2.999]\n"
     ]
    }
   ],
   "source": [
    "# MAKE ARRAY WITH ALL CURRENT MEASUREMENTS\n",
    "\n",
    "twenty = [Data[0][3], Data[0][4], Data[0][5], Data[0][6], Data[0][7], Data[0][8]]\n",
    "twentyfive = [Data[1][3], Data[1][4], Data[1][5], Data[1][6], Data[1][7], Data[1][8]]\n",
    "thirty = [Data[2][3], Data[2][4], Data[2][5], Data[2][6], Data[2][7], Data[3][8]]\n",
    "thirtyfive = [Data[3][3], Data[3][4], Data[3][5], Data[3][6], Data[3][7], Data[3][8]]\n",
    "forty = [Data[4][3], Data[4][4], Data[4][5], Data[4][6], Data[4][7], Data[4][8]]\n",
    "fortyfive = [Data[5][3], Data[5][4], Data[5][5], Data[5][6], Data[5][7], Data[5][8]]\n",
    "fifty = [Data[6][3], Data[6][4], Data[6][5], Data[6][6], Data[6][7], Data[6][8]]\n",
    "\n",
    "current_total = np.concatenate((twenty, twentyfive, thirty, thirtyfive, forty, fortyfive, fifty))\n",
    "print(current_total)"
   ]
  },
  {
   "cell_type": "code",
   "execution_count": 192,
   "metadata": {},
   "outputs": [
    {
     "name": "stdout",
     "output_type": "stream",
     "text": [
      "[20, 20, 20, 20, 20, 20, 25, 25, 25, 25, 25, 25, 30, 30, 30, 30, 30, 30, 35, 35, 35, 35, 35, 35, 40, 40, 40, 40, 40, 40, 45, 45, 45, 45, 45, 45, 50, 50, 50, 50, 50, 50]\n"
     ]
    }
   ],
   "source": [
    "# INITIALIZE VOLTAGE ARRAY\n",
    "\n",
    "voltage = []\n",
    "\n",
    "for i in range(6):\n",
    "    voltage.append(20)\n",
    "for i in range(6):\n",
    "    voltage.append(25)\n",
    "for i in range(6):\n",
    "    voltage.append(30)\n",
    "for i in range(6):\n",
    "    voltage.append(35)\n",
    "for i in range(6):\n",
    "    voltage.append(40)\n",
    "for i in range(6):\n",
    "    voltage.append(45)\n",
    "for i in range(6):\n",
    "    voltage.append(50)\n",
    "    \n",
    "print(voltage)"
   ]
  },
  {
   "cell_type": "code",
   "execution_count": 193,
   "metadata": {},
   "outputs": [],
   "source": [
    "# GETTING DATA TO PLOT ON Y AXIS\n",
    "\n",
    "constant = 1.927259344e-8 # based on well defined constants provided in the report related to the apparatus\n",
    "\n",
    "twenty_x = []\n",
    "twenty_i = []\n",
    "twentyfive_x = []\n",
    "twentyfive_i = []\n",
    "thirty_x = []\n",
    "thirty_i = []\n",
    "thirtyfive_x = []\n",
    "thirtyfive_i = []\n",
    "forty_x = []\n",
    "forty_i = []\n",
    "fortyfive_x = []\n",
    "fortyfive_i = []\n",
    "fifty_x = []\n",
    "fifty_i = []\n",
    "\n",
    "for i in range(6):\n",
    "    twenty_x.append(constant*twenty[i]**2/20)\n",
    "    twenty_i.append(twenty[i]**2)\n",
    "    twentyfive_x.append(constant*twentyfive[i]**2/25)\n",
    "    twentyfive_i.append(twentyfive[i]**2)\n",
    "    thirty_x.append(constant*thirty[i]**2/30)\n",
    "    thirty_i.append(thirty[i]**2)\n",
    "    thirtyfive_x.append(constant*thirtyfive[i]**2/35)\n",
    "    thirtyfive_i.append(thirtyfive[i]**2)\n",
    "    forty_x.append(constant*forty[i]**2/40)\n",
    "    forty_i.append(forty[i]**2)\n",
    "    fortyfive_x.append(constant*fortyfive[i]**2/45)\n",
    "    fortyfive_i.append(fortyfive[i]**2)\n",
    "    fifty_x.append(constant*fifty[i]**2/50)\n",
    "    fifty_i.append(fifty[i]**2)"
   ]
  },
  {
   "cell_type": "code",
   "execution_count": 194,
   "metadata": {},
   "outputs": [
    {
     "data": {
      "text/plain": [
       "[<matplotlib.lines.Line2D at 0x7fbbc2013278>]"
      ]
     },
     "execution_count": 194,
     "metadata": {},
     "output_type": "execute_result"
    },
    {
     "data": {
      "image/png": "[encoded data removed]",
      "text/plain": [
       "<Figure size 432x288 with 1 Axes>"
      ]
     },
     "metadata": {
      "needs_background": "light"
     },
     "output_type": "display_data"
    }
   ],
   "source": [
    "plt.plot(radii_inverse_square, twenty_x, 'x')\n",
    "plt.plot(radii_inverse_square, twentyfive_x, 'o')\n",
    "plt.plot(radii_inverse_square, thirty_x, 'x')\n",
    "plt.plot(radii_inverse_square, thirtyfive_x, 'o')\n",
    "plt.plot(radii_inverse_square, forty_x, 'x')\n",
    "plt.plot(radii_inverse_square, fortyfive_x, 'o')\n",
    "plt.plot(radii_inverse_square, fifty_x, 'x')"
   ]
  },
  {
   "cell_type": "code",
   "execution_count": 195,
   "metadata": {},
   "outputs": [
    {
     "data": {
      "image/png": "[encoded data removed]",
      "text/plain": [
       "<Figure size 432x288 with 1 Axes>"
      ]
     },
     "metadata": {
      "needs_background": "light"
     },
     "output_type": "display_data"
    },
    {
     "data": {
      "image/png": "[encoded data removed]",
      "text/plain": [
       "<Figure size 432x288 with 1 Axes>"
      ]
     },
     "metadata": {
      "needs_background": "light"
     },
     "output_type": "display_data"
    }
   ],
   "source": [
    "# COMBINE ALL ARRAYS\n",
    "\n",
    "total = []\n",
    "total_i = []\n",
    "\n",
    "total = np.concatenate((twenty_x, twentyfive_x, thirty_x, thirtyfive_x, forty_x, fortyfive_x, fifty_x))\n",
    "total_i = np.concatenate((twenty_i, twentyfive_i, thirty_i, thirtyfive_i, forty_i, fortyfive_i, fifty_i))\n",
    "total_i_array = [twenty_i, twentyfive_i, thirty_i, thirtyfive_i, forty_i, fortyfive_i, fifty_i]\n",
    "\n",
    "plt.plot(radii_inverse_square_ex, total, 'x')\n",
    "plt.ylabel('I^2 c/V',fontsize = 8)\n",
    "plt.xlabel('1/r^2',fontsize = 8)\n",
    "plt.show()\n",
    "plt.clf()\n",
    "\n",
    "plt.plot(radii_inverse_square_ex, total_i, 'x')\n",
    "plt.ylabel('I^2',fontsize = 8)\n",
    "plt.xlabel('1/r^2',fontsize = 8)\n",
    "plt.show()\n",
    "\n",
    "# print(len(total))\n",
    "# print(total_i_array)"
   ]
  },
  {
   "cell_type": "code",
   "execution_count": 196,
   "metadata": {},
   "outputs": [],
   "source": [
    "# Generate error arrays \n",
    "\n",
    "def err_func(voltage, current, constant):\n",
    "    return (current**2)*constant*(0.5)/(voltage**2) + 2*current*constant*(0.00005)/voltage\n",
    "\n",
    "def err_i_func(current):\n",
    "    return (2*current)*0.00005\n",
    "\n",
    "err = []\n",
    "err_i = []\n",
    "\n",
    "for i in range(len(total)):\n",
    "    err.append(err_func(voltage[i], current_total[i], constant))\n",
    "    err_i.append(err_i_func(current_total[i]))\n",
    "    \n",
    "# print(err)\n",
    "# print(err_i)\n",
    "\n",
    "split_err_i = np.array_split(err_i, 7)\n",
    "# print(split_err_i)\n",
    "split_radii_inverse_square_ex = np.array_split(radii_inverse_square_ex, 7)"
   ]
  },
  {
   "cell_type": "code",
   "execution_count": 197,
   "metadata": {},
   "outputs": [
    {
     "name": "stdout",
     "output_type": "stream",
     "text": [
      "Slope: 5.71228857483143e-12 +- 2.2694668267850584e-13\n",
      "Intercept: 5.175200627758692e-10 +- 1.1497877121546027e-10\n"
     ]
    },
    {
     "data": {
      "text/plain": [
       "[<matplotlib.lines.Line2D at 0x7fbbc2081860>]"
      ]
     },
     "execution_count": 197,
     "metadata": {},
     "output_type": "execute_result"
    },
    {
     "data": {
      "image/png": "[encoded data removed]",
      "text/plain": [
       "<Figure size 432x288 with 1 Axes>"
      ]
     },
     "metadata": {
      "needs_background": "light"
     },
     "output_type": "display_data"
    }
   ],
   "source": [
    "def func(x,m,b):                                 \n",
    "    return m*x+b                                \n",
    " \n",
    "initialguess = [1,1]                     \n",
    "                                        \n",
    "fit, covariance = optimize.curve_fit(            \n",
    "        func,                                    \n",
    "        radii_inverse_square_ex,                                  \n",
    "        total,\n",
    "        initialguess,\n",
    "        err)   \n",
    "\n",
    "print(\"Slope:\",fit[0],\"+-\",np.sqrt(covariance[0][0]))    \n",
    "print(\"Intercept:\",fit[1],\"+-\",np.sqrt(covariance[1][1])) \n",
    "\n",
    "radii_inverse_square_exfit=np.linspace(min(radii_inverse_square_ex), max(radii_inverse_square_ex), 100) \n",
    "func_plot=func(radii_inverse_square_exfit,*fit)    \n",
    "\n",
    "plt.plot(radii_inverse_square_ex, total, 'x')\n",
    "plt.errorbar(radii_inverse_square_ex, total, err, fmt='k.')\n",
    "plt.ylabel('I^2 c/V',fontsize = 8)\n",
    "plt.xlabel('1/r^2',fontsize = 8)\n",
    "\n",
    "plt.plot(radii_inverse_square_exfit, func_plot) "
   ]
  },
  {
   "cell_type": "code",
   "execution_count": 198,
   "metadata": {},
   "outputs": [
    {
     "name": "stdout",
     "output_type": "stream",
     "text": [
      "0 Slope: 0.006148258612253394 +- 0.00020907534320529838\n",
      "1 Slope: 0.0072104187803221685 +- 0.00036284557689064434\n",
      "2 Slope: 0.008860319025618138 +- 0.0007804950866404424\n",
      "3 Slope: 0.011361509079280201 +- 0.0002432515374909499\n",
      "4 Slope: 0.012734387859217709 +- 0.00022973992132253946\n",
      "5 Slope: 0.013276607747350743 +- 0.0005431941681242882\n",
      "6 Slope: 0.012807077585378796 +- 0.002470735691248184\n"
     ]
    },
    {
     "data": {
      "image/png": "[encoded data removed]",
      "text/plain": [
       "<Figure size 432x288 with 1 Axes>"
      ]
     },
     "metadata": {
      "needs_background": "light"
     },
     "output_type": "display_data"
    },
    {
     "name": "stdout",
     "output_type": "stream",
     "text": [
      "[0.006148258612253394, 0.0072104187803221685, 0.008860319025618138, 0.011361509079280201, 0.012734387859217709, 0.013276607747350743, 0.012807077585378796] [0.00020907534320529838, 0.00036284557689064434, 0.0007804950866404424, 0.0002432515374909499, 0.00022973992132253946, 0.0005431941681242882, 0.002470735691248184]\n"
     ]
    }
   ],
   "source": [
    "# Try a different strategy: let's calculate the slope and uncertainty on each individual data set (20V, 25V, 30V... etc)\n",
    "# and then calculate the weighted average of these slopes. The hope is that by 'averaging' later on in the analysis,\n",
    "# the result will be more precise.\n",
    "\n",
    "# print(len(total_i_array[0]))\n",
    "# print(len(split_err_i[0]))\n",
    "# print(len(split_radii_inverse_square_ex[0]))\n",
    "\n",
    "slope = []\n",
    "slope_unc = []\n",
    "\n",
    "def func(x,m,b):                                 \n",
    "    return m*x+b                                \n",
    "\n",
    "for i in range(7):\n",
    "\n",
    "    initialguess = [1,1]                     \n",
    "                                        \n",
    "    fit, covariance = optimize.curve_fit(            \n",
    "        func,                                    \n",
    "        split_radii_inverse_square_ex[i],                                  \n",
    "        total_i_array[i],\n",
    "        initialguess,\n",
    "        split_err_i[i])   \n",
    "\n",
    "    print(i, \"Slope:\",fit[0],\"+-\",np.sqrt(covariance[0][0]))    \n",
    "    # print(i, \"Intercept:\",fit[1],\"+-\",np.sqrt(covariance[1][1])) \n",
    "    \n",
    "    slope.append(fit[0])\n",
    "    slope_unc.append(np.sqrt(covariance[0][0]))\n",
    "\n",
    "    radii_inverse_square_exfit=np.linspace(min(split_radii_inverse_square_ex[i]), max(split_radii_inverse_square_ex[i]), 100) \n",
    "    func_plot=func(radii_inverse_square_exfit,*fit)    \n",
    "\n",
    "    plt.plot(split_radii_inverse_square_ex[i], total_i_array[i], 'x')\n",
    "    plt.errorbar(split_radii_inverse_square_ex[i], total_i_array[i], split_err_i[i], fmt='k.')\n",
    "    plt.plot(radii_inverse_square_exfit, func_plot) \n",
    "    \n",
    "plt.ylabel('I^2',fontsize = 8)\n",
    "plt.xlabel('1/r^2',fontsize = 8)    \n",
    "plt.show()\n",
    "\n",
    "print(slope, slope_unc)"
   ]
  },
  {
   "cell_type": "code",
   "execution_count": 199,
   "metadata": {},
   "outputs": [
    {
     "name": "stdout",
     "output_type": "stream",
     "text": [
      "[168786500495.08536, 179903395162.89734, 175683807597.7669, 159842353168.4437, 162982793797.95337, 175867353985.29895, 202572180964.5629]\n",
      "[-5283758416.415872, -6397982011.949724, -7356829046.886107, -8131409072.877982, -9056278290.479742, -10090952366.004805, -11305581000.498257]\n"
     ]
    }
   ],
   "source": [
    "anode_V = [20, 25, 30, 35, 40, 45, 50]\n",
    "ratio = []\n",
    "ratio_unc = []\n",
    "\n",
    "for i in range(7):\n",
    "    ratio.append((1/constant)*anode_V[i]/slope[i])\n",
    "    ratio_unc.append((1/constant)*anode_V[i]*np.log(slope[i]))\n",
    "\n",
    "print(ratio)\n",
    "print(ratio_unc)"
   ]
  },
  {
   "cell_type": "code",
   "execution_count": null,
   "metadata": {},
   "outputs": [],
   "source": []
  }
 ],
 "metadata": {
  "kernelspec": {
   "display_name": "Python 3",
   "language": "python",
   "name": "python3"
  },
  "language_info": {
   "codemirror_mode": {
    "name": "ipython",
    "version": 3
   },
   "file_extension": ".py",
   "mimetype": "text/x-python",
   "name": "python",
   "nbconvert_exporter": "python",
   "pygments_lexer": "ipython3",
   "version": "3.6.8"
  }
 },
 "nbformat": 4,
 "nbformat_minor": 2
}
