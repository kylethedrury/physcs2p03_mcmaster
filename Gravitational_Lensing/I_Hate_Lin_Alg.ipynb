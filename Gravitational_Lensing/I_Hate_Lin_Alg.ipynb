{
 "cells": [
  {
   "cell_type": "code",
   "execution_count": 2,
   "metadata": {},
   "outputs": [
    {
     "name": "stdout",
     "output_type": "stream",
     "text": [
      "3.0\n",
      "0.0\n",
      "0.0\n",
      "2.999999999999999\n"
     ]
    }
   ],
   "source": [
    "a = 3\n",
    "b = 17\n",
    "c = 2\n",
    "d = 1\n",
    "\n",
    "y = a/(b-(d*a)/c)\n",
    "z = (c+d)/(d-(b*c/a))\n",
    "x = -z*b/a\n",
    "w = -y*d/c\n",
    "\n",
    "print(a*w+b*y)\n",
    "print(c*w+d*y)\n",
    "print(a*x+b*z)\n",
    "print(c*x+d*z)"
   ]
  },
  {
   "cell_type": "code",
   "execution_count": 6,
   "metadata": {},
   "outputs": [],
   "source": [
    "import numpy as np                                # import packages and give them quick handles since they will be used often\n",
    "import matplotlib.pyplot as plt\n",
    "from scipy import optimize\n",
    "import pandas as pd\n",
    "import math\n",
    "%matplotlib inline\n"
   ]
  },
  {
   "cell_type": "code",
   "execution_count": null,
   "metadata": {},
   "outputs": [],
   "source": []
  },
  {
   "cell_type": "code",
   "execution_count": null,
   "metadata": {},
   "outputs": [],
   "source": []
  }
 ],
 "metadata": {
  "kernelspec": {
   "display_name": "Python 3",
   "language": "python",
   "name": "python3"
  },
  "language_info": {
   "codemirror_mode": {
    "name": "ipython",
    "version": 3
   },
   "file_extension": ".py",
   "mimetype": "text/x-python",
   "name": "python",
   "nbconvert_exporter": "python",
   "pygments_lexer": "ipython3",
   "version": "3.6.8"
  }
 },
 "nbformat": 4,
 "nbformat_minor": 2
}
