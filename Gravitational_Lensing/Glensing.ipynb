{
 "cells": [
  {
   "cell_type": "code",
   "execution_count": 1148,
   "metadata": {},
   "outputs": [],
   "source": [
    "import numpy as np                                # import packages and give them quick handles since they will be used often\n",
    "import matplotlib.pyplot as plt\n",
    "from scipy import optimize\n",
    "import pandas as pd\n",
    "import math\n",
    "%matplotlib inline\n",
    "\n",
    "# DEFINING ERROR FUCNTIONS TO CALCULATE THE UNCERTAINTY IN THE EINSTIEN ANGLE \n",
    "\n",
    "DLS_error = DL_error = DS_error = 0.005\n",
    "ER_error = 0.000005\n",
    "\n",
    "def delF_delER(ER_error,DS,ER):\n",
    "    return DS/(ER**2+DS**2)*ER_error\n",
    "\n",
    "def delF_delDS(DS_error,DS,ER):\n",
    "    return ER/(ER**2+DS**2)*DS_error\n",
    "\n",
    "# DEFINING FUNCTIONS FOR MASS UNCERTAINTY CALCULATIONS \n",
    "\n",
    "def delM_delEA(EA,DS,DL,DLS,G,c):\n",
    "    return 2*EA*(c**2/(4*G))*(DS*DL/DLS)\n",
    "\n",
    "def delM_delDS(EA,DS,DL,DLS,G,c):\n",
    "    return (EA**2)*(c**2/(4*G))*(DL/DLS)\n",
    "\n",
    "def delM_delDL(EA,DS,DL,DLS,G,c):   \n",
    "    return (EA**2)*(c**2/(4*G))*(DS/DLS)\n",
    "\n",
    "def delM_delDLS(EA,DS,DL,DLS,G,c):  \n",
    "    return (EA**2)*(c**2/(4*G))*(DS*DL/(DLS**2))\n",
    "\n",
    "# DEFINING ERROR FUNCTIONS FOR DISTANCE PARAMETER\n",
    "\n",
    "def delD_delDLS(DLS,DL,DS):\n",
    "    return 1/(DL*DS)\n",
    "\n",
    "def delD_delDL(DLS,DL,DS):\n",
    "    return DLS*((DL**2)*DS)\n",
    "\n",
    "def delD_delDS(DLS,DL,DS):\n",
    "    return DLS*((DS**2)*DL)"
   ]
  },
  {
   "cell_type": "code",
   "execution_count": 1178,
   "metadata": {},
   "outputs": [
    {
     "name": "stdout",
     "output_type": "stream",
     "text": [
      "[0.0188, 0.02026, 0.020415, 0.02022, 0.02025]\n",
      "[[1.      0.295   0.33    0.0376 ]\n",
      " [2.      0.32    0.305   0.04052]\n",
      " [3.      0.34    0.285   0.04083]\n",
      " [4.      0.36    0.265   0.04044]\n",
      " [5.      0.4     0.25    0.0405 ]]\n"
     ]
    }
   ],
   "source": [
    "# SETTING UP ARRAYS FOR DISTANCE PARAMETERS AND EINSTIEN RADIUS MEASUREMENTS\n",
    "\n",
    "Array = np.loadtxt('Lens 1 Data.txt', skiprows=1, delimiter=',')\n",
    "Trial1 = Array[0]\n",
    "Trial2 = Array[1]\n",
    "Trial3 = Array[2]\n",
    "Trial4 = Array[3]\n",
    "Trial5 = Array[4]\n",
    "\n",
    "DL = []\n",
    "DL.append(Trial1[1])\n",
    "DL.append(Trial2[1])\n",
    "DL.append(Trial3[1])\n",
    "DL.append(Trial4[1])\n",
    "DL.append(Trial5[1])\n",
    "\n",
    "DLS = []\n",
    "DLS.append(Trial1[2])\n",
    "DLS.append(Trial2[2])\n",
    "DLS.append(Trial3[2])\n",
    "DLS.append(Trial4[2])\n",
    "DLS.append(Trial5[2])\n",
    "\n",
    "ER = []\n",
    "ER.append(Trial1[3]/2)     # divide by 2 because in the text document we have the diameter measurements \n",
    "ER.append(Trial2[3]/2)\n",
    "ER.append(Trial3[3]/2)\n",
    "ER.append(Trial4[3]/2)\n",
    "ER.append(Trial5[3]/2)\n",
    "\n",
    "print(ER)\n",
    "\n",
    "print(Array)"
   ]
  },
  {
   "cell_type": "code",
   "execution_count": 1179,
   "metadata": {},
   "outputs": [
    {
     "name": "stdout",
     "output_type": "stream",
     "text": [
      "[0.03007093272979502, 0.03240465294075942, 0.032652390622054835, 0.032340719988767516, 0.031143773104679088]\n",
      "[0.0002484152323079503, 0.00026704738739151645, 0.0002690249673364036, 0.00026653702851162184, 0.0002470974546745385]\n"
     ]
    }
   ],
   "source": [
    "# SOLVING FOR THE EINSTIEN ANGLE AND THE UNCERTAINTIES\n",
    "\n",
    "def angle_func(ER,DS):\n",
    "    return math.atan(ER/DS)\n",
    "\n",
    "EA = []\n",
    "for i in range(5):\n",
    "    EA.append(angle_func(ER[i], DL[i]+DLS[i]))\n",
    "    \n",
    "EA_error = []\n",
    "for i in range (5):\n",
    "    EA_error.append(delF_delER(ER_error,DL[i]+DLS[i],ER[i])+delF_delDS(DS_error,DL[i]+DLS[i],ER[i]))\n",
    "    \n",
    "print(EA)\n",
    "print(EA_error)"
   ]
  },
  {
   "cell_type": "code",
   "execution_count": 1180,
   "metadata": {},
   "outputs": [
    {
     "name": "stdout",
     "output_type": "stream",
     "text": [
      "[1.7042706930354575e+23, 2.3227452969989465e+23, 2.6816415450217967e+23, 2.9956612161162767e+23, 3.402769072680681e+23]\n",
      "[9.650026889617361e+21, 1.3123622948977888e+22, 1.521237852400017e+22, 1.7147127149798065e+22, 1.907608840869499e+22]\n"
     ]
    }
   ],
   "source": [
    "# CALCULATING THE MASS AND UNCERTAINTIES\n",
    "\n",
    "c = 3e8\n",
    "G = 6.67e-11\n",
    "\n",
    "def mass_func(c, G, EA, DL, DLS, DS):\n",
    "    return (EA**2)*(c**2)*DS*DL/(4*G*DLS)\n",
    "\n",
    "mass = []\n",
    "for i in range(5):\n",
    "    mass.append(mass_func(c, G, EA[i], DL[i], DLS[i], DL[i]+DLS[i]))\n",
    "    \n",
    "EA_differential = []\n",
    "\n",
    "DS_differential = []\n",
    "DL_differential = []\n",
    "DLS_differential = []\n",
    "mass_error = []\n",
    "\n",
    "for i in range(5):\n",
    "    EA_differential.append(delM_delEA(EA[i],DL[i]+DLS[i],DL[i],DLS[i],G,c))\n",
    "    DS_differential.append(delM_delDS(EA[i],DL[i]+DLS[i],DL[i],DLS[i],G,c))\n",
    "    DL_differential.append(delM_delDL(EA[i],DL[i]+DLS[i],DL[i],DLS[i],G,c))\n",
    "    DLS_differential.append(delM_delDLS(EA[i],DL[i]+DLS[i],DL[i],DLS[i],G,c))\n",
    "    mass_error.append(EA_differential[i]*EA_error[i]+DS_error*(DS_differential[i]+DL_differential[i]+DLS_differential[i]))\n",
    "    \n",
    "print(mass)\n",
    "print(mass_error)"
   ]
  },
  {
   "cell_type": "code",
   "execution_count": 1181,
   "metadata": {},
   "outputs": [
    {
     "name": "stdout",
     "output_type": "stream",
     "text": [
      "[1.7898305084745765, 1.525, 1.341176470588235, 1.177777777777778, 0.9615384615384615]\n",
      "[0.02637460548345828, 0.02434614553846154, 0.022936210139140267, 0.021680671867521366, 0.01957201923076923]\n"
     ]
    }
   ],
   "source": [
    "# DISTANCE PARAMETER AND UNCERTAINTY CALCULATIONS \n",
    "# note: D = distance paramter: DLS/(DL*DS)\n",
    "\n",
    "D = []\n",
    "for i in range(5):\n",
    "    D.append(DLS[i]/((DL[i]+DLS[i])*DL[i]))\n",
    "    \n",
    "D_error = []\n",
    "for i in range(5):\n",
    "    D_error.append(DS_error*(delD_delDLS(DLS[i],DL[i],0.65)+delD_delDL(DLS[i],DL[i],0.65)+delD_delDS(DLS[i],DL[i],0.65)))\n",
    "    \n",
    "print(D)\n",
    "print(D_error)"
   ]
  },
  {
   "cell_type": "code",
   "execution_count": 1182,
   "metadata": {},
   "outputs": [
    {
     "name": "stdout",
     "output_type": "stream",
     "text": [
      "offset: -2.0820566169291745e+23 +- 6.24684979474068e+21\n",
      "offset: 5.4516325208061965e+23 +- 9.534651631262304e+21\n"
     ]
    },
    {
     "data": {
      "image/png": "[encoded data removed]",
      "text/plain": [
       "<Figure size 432x288 with 1 Axes>"
      ]
     },
     "metadata": {
      "needs_background": "light"
     },
     "output_type": "display_data"
    },
    {
     "data": {
      "text/plain": [
       "<Figure size 432x288 with 0 Axes>"
      ]
     },
     "metadata": {},
     "output_type": "display_data"
    }
   ],
   "source": [
    "plt.plot(D, mass)\n",
    "plt.errorbar(D, mass, mass_error, D_error, fmt='k.')      \n",
    "\n",
    "def func(x,m,b):                                 \n",
    "    return m*x+b                                \n",
    " \n",
    "initialguess = [1e24,-1e23]                     \n",
    "                                        \n",
    "fit, covariance = optimize.curve_fit(            \n",
    "        func,                                    \n",
    "        D,                                  \n",
    "        mass,\n",
    "        initialguess,\n",
    "        mass_error)   \n",
    "\n",
    "print(\"offset:\",fit[0],\"+-\",np.sqrt(covariance[0][0]))    \n",
    "print(\"offset:\",fit[1],\"+-\",np.sqrt(covariance[1][1])) \n",
    "\n",
    "Dfit=np.linspace(min(D), max(D), 100) \n",
    "func_plot=func(Dfit,*fit)    \n",
    "\n",
    "plt.plot(Dfit, func_plot) \n",
    "\n",
    "plt.title('Distance Parameter DLS/(DL*DS) vs Mass')\n",
    "plt.xlabel('Distance Parameter (m^-1)',fontsize = 18)\n",
    "plt.ylabel('Mass',fontsize = 18)\n",
    "\n",
    "plt.show()\n",
    "plt.savefig(\"./\",dpi=300)         \n",
    "plt.clf()"
   ]
  },
  {
   "cell_type": "code",
   "execution_count": 1183,
   "metadata": {},
   "outputs": [
    {
     "name": "stdout",
     "output_type": "stream",
     "text": [
      "[1.7251040674549956e+23, 2.2764961799892056e+23, 2.6592271757482454e+23, 2.999432505311835e+23, 3.449655004528144e+23]\n"
     ]
    }
   ],
   "source": [
    "# EVALUATE THE THE POINTS ALONG BESTFIT LINE AT OUR DATA POINTS\n",
    "\n",
    "def trendline_fit(m,x,b):\n",
    "    return m*x+b\n",
    "\n",
    "trendline = []\n",
    "for i in range(5):\n",
    "    trendline.append(trendline_fit(fit[0],D[i],fit[1]))\n",
    "    \n",
    "print(trendline)"
   ]
  },
  {
   "cell_type": "code",
   "execution_count": 1184,
   "metadata": {},
   "outputs": [
    {
     "name": "stdout",
     "output_type": "stream",
     "text": [
      "2.478125516801794e+23\n"
     ]
    }
   ],
   "source": [
    "# GETTING OUR WEIGHTS, AND THEN CALCULATING WEIGHTED AVERAGE\n",
    "\n",
    "# WEIGHTED AVERAGE 1 = 2.498685959261379e+23\n",
    "# WEIGHTED AVERAGE 2 = 9.68019573664252e+22\n",
    "# WEIGHTED AVERAGE 3 = 4.649682788406193e+22\n",
    "# WEIGHTED AVERAGE 4 = 2.0671208056661207e+23\n",
    "\n",
    "weights = []\n",
    "total_weights = 0\n",
    "\n",
    "weight_mass = []\n",
    "total_weight_mass = 0\n",
    "\n",
    "for i in range(5):\n",
    "    weights.append(1/mass_error[i])\n",
    "    total_weights = total_weights + weights[i]\n",
    "    weight_mass.append(mass[i]*weights[i])\n",
    "    total_weight_mass = total_weight_mass + weight_mass[i]\n",
    "\n",
    "print(total_weight_mass/total_weights)"
   ]
  },
  {
   "cell_type": "code",
   "execution_count": 1185,
   "metadata": {},
   "outputs": [
    {
     "name": "stdout",
     "output_type": "stream",
     "text": [
      "offset: 0.2494336494922918 +- 0.08895648374091455\n",
      "offset: -3.628377389481506e+22 +- 5.942965541817551e+22\n",
      "[2.131498755974767e+23, 1.5079146322440379e+23, 5.850101291225581e+22, 3.355764796302665e+22]\n"
     ]
    },
    {
     "data": {
      "image/png": "[encoded data removed]",
      "text/plain": [
       "<Figure size 432x288 with 1 Axes>"
      ]
     },
     "metadata": {
      "needs_background": "light"
     },
     "output_type": "display_data"
    },
    {
     "data": {
      "text/plain": [
       "<Figure size 432x288 with 0 Axes>"
      ]
     },
     "metadata": {},
     "output_type": "display_data"
    }
   ],
   "source": [
    "# PLOTTING WEIGHTED AVERAGES WITH REAL MASS\n",
    "Real_Mass = [1e24, 7.5e23, 3.8e23, 2.8e23]\n",
    "Weighted_Mass = [2.5e23, 9.7e22, 4.6e22, 6.3e22]\n",
    "plt.plot(Real_Mass, Weighted_Mass)\n",
    "\n",
    "def func1(x,m,b):                                 \n",
    "    return m*x+b                                \n",
    " \n",
    "initialguess = [0.25,1e22]                     \n",
    "                                        \n",
    "fit, covariance = optimize.curve_fit(            \n",
    "        func1,   \n",
    "        Real_Mass,  \n",
    "        Weighted_Mass,\n",
    "        initialguess)   \n",
    "\n",
    "print(\"offset:\",fit[0],\"+-\",np.sqrt(covariance[0][0]))    \n",
    "print(\"offset:\",fit[1],\"+-\",np.sqrt(covariance[1][1])) \n",
    "\n",
    "Weighted_Massfit=np.linspace(min(Real_Mass), max(Real_Mass), 100) \n",
    "func1_plot=func(Real_Massfit,*fit)   \n",
    "\n",
    "trendd = []\n",
    "for i in range(4):\n",
    "    trendd.append(func1(Real_Mass[i],fit[0],fit[1]))\n",
    "                  \n",
    "print(trendd)\n",
    "\n",
    "plt.plot(Real_Mass,trendd)\n",
    "\n",
    "# plt.plot(Real_Massfit, func1_plot) \n",
    "\n",
    "plt.title('Real Mass vs Weighted Average Mass')\n",
    "plt.xlabel('Real Mass',fontsize = 18)\n",
    "plt.ylabel('Weighted Average Mass',fontsize = 18)\n",
    "\n",
    "plt.show()\n",
    "plt.savefig(\"./images\",dpi=300)         \n",
    "plt.clf()"
   ]
  },
  {
   "cell_type": "code",
   "execution_count": 1186,
   "metadata": {},
   "outputs": [],
   "source": [
    "# CLACULATING STANDARD DEVIATION OF OUR PLOTS\n",
    "arr1 = Real_Mass\n",
    "arr2 = Weighted_Mass\n",
    "\n",
    "def count_between_stddev(arr1, arr2, multiplier=1):\n",
    "    # combine the arrays into one array\n",
    "    combined = np.concatenate([arr1, arr2])\n",
    "    # find the standard deviation of the combined array\n",
    "    stddev = np.std(combined)\n",
    "    # find the mean of the combined array\n",
    "    mean = np.mean(combined)\n",
    "    # find the lower and upper bounds\n",
    "    lower = mean - multiplier * stddev\n",
    "    upper = mean + multiplier * stddev\n",
    "    # count the number of elements between the lower and upper bounds\n",
    "    count = len(np.where((combined >= lower) & (combined <= upper))[0])\n",
    "    return count, stddev, lower, upper"
   ]
  },
  {
   "cell_type": "code",
   "execution_count": 1187,
   "metadata": {},
   "outputs": [],
   "source": [
    "def report_statistical_significance(count, total, stddev, multiplier):\n",
    "    # calculate the percentage of elements within the bounds\n",
    "    percentage = count / total * 100\n",
    "    # report the statistical significance\n",
    "    if multiplier == 1:\n",
    "        print(f\"{count} elements ({percentage:.2f}%) fall within 1 standard deviation of the mean.\")\n",
    "    elif multiplier == 2:\n",
    "        print(f\"{count} elements ({percentage:.2f}%) fall within 2 standard deviations of the mean.\")\n",
    "    elif multiplier == 3:\n",
    "        print(f\"{count} elements ({percentage:.2f}%) fall within 3 standard deviations of the mean.\")\n",
    "    else:\n",
    "        print(f\"{count} elements ({percentage:.2f}%) fall within {multiplier} standard deviations of the mean.\")\n",
    "    print(f\"The standard deviation is {stddev:.2f}.\")"
   ]
  },
  {
   "cell_type": "code",
   "execution_count": 1189,
   "metadata": {
    "scrolled": false
   },
   "outputs": [
    {
     "name": "stdout",
     "output_type": "stream",
     "text": [
      "6 elements (75.00%) fall within 1 standard deviation of the mean.\n",
      "The standard deviation is 323370820421385512288256.00.\n",
      "8 elements (100.00%) fall within 2 standard deviations of the mean.\n",
      "The standard deviation is 323370820421385512288256.00.\n",
      "8 elements (100.00%) fall within 3 standard deviations of the mean.\n",
      "The standard deviation is 323370820421385512288256.00.\n"
     ]
    }
   ],
   "source": [
    "# example arrays\n",
    "\n",
    "# count the number of elements between 1 standard deviation of the mean\n",
    "count, stddev, lower, upper = count_between_stddev(arr1, arr2, multiplier=1)\n",
    "total = len(arr1) + len(arr2)\n",
    "report_statistical_significance(count, total, stddev, multiplier=1)\n",
    "\n",
    "# count the number of elements between 2 standard deviations of the mean\n",
    "count, stddev, lower, upper = count_between_stddev(arr1, arr2, multiplier=2)\n",
    "report_statistical_significance(count, total, stddev, multiplier=2)\n",
    "\n",
    "# count the number of elements between 3 standard deviations of the mean\n",
    "count, stddev, lower, upper = count_between_stddev(arr1, arr2, multiplier=3)\n",
    "report_statistical_significance(count, total, stddev, multiplier=3)"
   ]
  },
  {
   "cell_type": "code",
   "execution_count": null,
   "metadata": {},
   "outputs": [],
   "source": []
  }
 ],
 "metadata": {
  "kernelspec": {
   "display_name": "Python 3",
   "language": "python",
   "name": "python3"
  },
  "language_info": {
   "codemirror_mode": {
    "name": "ipython",
    "version": 3
   },
   "file_extension": ".py",
   "mimetype": "text/x-python",
   "name": "python",
   "nbconvert_exporter": "python",
   "pygments_lexer": "ipython3",
   "version": "3.6.8"
  }
 },
 "nbformat": 4,
 "nbformat_minor": 2
}
