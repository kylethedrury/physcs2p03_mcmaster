{
 "cells": [
  {
   "cell_type": "code",
   "execution_count": 1,
   "metadata": {},
   "outputs": [],
   "source": [
    "import numpy as np                                # import packages and give them quick handles since they will be used often\n",
    "import matplotlib.pyplot as plt\n",
    "from scipy import optimize\n",
    "import pandas as pd\n",
    "import math\n",
    "%matplotlib inline"
   ]
  },
  {
   "cell_type": "code",
   "execution_count": 8,
   "metadata": {},
   "outputs": [],
   "source": [
    "arr1 = [7.412,6.884,6.103,5.493,5.199,7.412,6.884,6.103,5.493,5.199] \n",
    "arr2 = [-1.8,-1.5,-1.3,-1,-0.9,-1.8,-1.5,-1.2,-0.9,-0.8]\n",
    "\n",
    "def count_between_stddev(arr1, arr2, multiplier=1):\n",
    "    # combine the arrays into one array\n",
    "    combined = np.concatenate([arr1, arr2])\n",
    "    # find the standard deviation of the combined array\n",
    "    stddev = np.std(combined)\n",
    "    # find the mean of the combined array\n",
    "    mean = np.mean(combined)\n",
    "    # find the lower and upper bounds\n",
    "    lower = mean - multiplier * stddev\n",
    "    upper = mean + multiplier * stddev\n",
    "    # count the number of elements between the lower and upper bounds\n",
    "    count = len(np.where((combined >= lower) & (combined <= upper))[0])\n",
    "    return count, stddev, lower, upper"
   ]
  },
  {
   "cell_type": "code",
   "execution_count": 7,
   "metadata": {},
   "outputs": [],
   "source": [
    "def report_statistical_significance(count, total, stddev, multiplier):\n",
    "    # calculate the percentage of elements within the bounds\n",
    "    percentage = count / total * 100\n",
    "    # report the statistical significance\n",
    "    if multiplier == 1:\n",
    "        print(f\"{count} elements ({percentage:.2f}%) fall within 1 standard deviation of the mean.\")\n",
    "    elif multiplier == 2:\n",
    "        print(f\"{count} elements ({percentage:.2f}%) fall within 2 standard deviations of the mean.\")\n",
    "    elif multiplier == 3:\n",
    "        print(f\"{count} elements ({percentage:.2f}%) fall within 3 standard deviations of the mean.\")\n",
    "    else:\n",
    "        print(f\"{count} elements ({percentage:.2f}%) fall within {multiplier} standard deviations of the mean.\")\n",
    "    print(f\"The standard deviation is {stddev:.2f}.\")"
   ]
  },
  {
   "cell_type": "code",
   "execution_count": 6,
   "metadata": {},
   "outputs": [
    {
     "name": "stdout",
     "output_type": "stream",
     "text": [
      "12 elements (60.00%) fall within 1 standard deviation of the mean.\n",
      "The standard deviation is 3.80.\n",
      "20 elements (100.00%) fall within 2 standard deviations of the mean.\n",
      "The standard deviation is 3.80.\n",
      "20 elements (100.00%) fall within 3 standard deviations of the mean.\n",
      "The standard deviation is 3.80.\n"
     ]
    }
   ],
   "source": [
    "# example arrays\n",
    "\n",
    "# count the number of elements between 1 standard deviation of the mean\n",
    "count, stddev, lower, upper = count_between_stddev(arr1, arr2, multiplier=1)\n",
    "total = len(arr1) + len(arr2)\n",
    "report_statistical_significance(count, total, stddev, multiplier=1)\n",
    "\n",
    "# count the number of elements between 2 standard deviations of the mean\n",
    "count, stddev, lower, upper = count_between_stddev(arr1, arr2, multiplier=2)\n",
    "report_statistical_significance(count, total, stddev, multiplier=2)\n",
    "\n",
    "# count the number of elements between 3 standard deviations of the mean\n",
    "count, stddev, lower, upper = count_between_stddev(arr1, arr2, multiplier=3)\n",
    "report_statistical_significance(count, total, stddev, multiplier=3)"
   ]
  }
 ],
 "metadata": {
  "kernelspec": {
   "display_name": "Python 3",
   "language": "python",
   "name": "python3"
  },
  "language_info": {
   "codemirror_mode": {
    "name": "ipython",
    "version": 3
   },
   "file_extension": ".py",
   "mimetype": "text/x-python",
   "name": "python",
   "nbconvert_exporter": "python",
   "pygments_lexer": "ipython3",
   "version": "3.6.8"
  }
 },
 "nbformat": 4,
 "nbformat_minor": 2
}
