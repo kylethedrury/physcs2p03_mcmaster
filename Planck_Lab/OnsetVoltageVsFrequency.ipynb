{
 "cells": [
  {
   "cell_type": "code",
   "execution_count": 24,
   "metadata": {},
   "outputs": [
    {
     "name": "stdout",
     "output_type": "stream",
     "text": [
      "[7.412 6.884 6.103 5.493 5.199 7.412 6.884 6.103 5.493 5.199]\n",
      "m: -0.3309984602371097 +- 0.038092287896088727\n",
      "b: 1.0169038307201737 +- 0.2316415605682975\n",
      "[-1.4364567565572837, -1.2616895695520896, -1.0031797721069067, -0.8012707113622701, -0.7039571640525597, -1.4364567565572837, -1.2616895695520896, -1.0031797721069067, -0.8012707113622701, -0.7039571640525597]\n",
      "[0.06354324344271634, 0.03831043044791049, 0.09682022789309341, 0.06872928863772987, 0.13604283594744027, 0.036456756557283754, 0.061689569552089596, 0.07317977210690663, 0.09127071136227016, 0.09395716405255972]\n",
      "0.06575922629205797\n",
      "0.08109206267697103\n"
     ]
    },
    {
     "data": {
      "image/png": "[encoded data removed]",
      "text/plain": [
       "<Figure size 432x288 with 1 Axes>"
      ]
     },
     "metadata": {
      "needs_background": "light"
     },
     "output_type": "display_data"
    },
    {
     "data": {
      "text/plain": [
       "<Figure size 432x288 with 0 Axes>"
      ]
     },
     "metadata": {},
     "output_type": "display_data"
    }
   ],
   "source": [
    "arr1 = [7.412,6.884,6.103,5.493,5.199,7.412,6.884,6.103,5.493,5.199] \n",
    "arr2 = [-1.5,-1.3,-1.1,-.87,-0.84,-1.4,-1.2,-0.93,-0.71,-0.61]\n",
    "\n",
    "import numpy as np                                \n",
    "import matplotlib.pyplot as plt\n",
    "from scipy import optimize                     \n",
    "\n",
    "file_name = 'shit.txt'                       \n",
    "file_folder = ''                               \n",
    "data_file = file_folder + file_name\n",
    "\n",
    "xdata, ydata, yerr = np.loadtxt(                      \n",
    "        data_file,                               \n",
    "        delimiter = ',',                      \n",
    "        skiprows = 1,\n",
    "        usecols = (0, 1, 2),                      \n",
    "        unpack = True)    \n",
    "\n",
    "def func(x,m,b):                                 \n",
    "    return m*x+b                                \n",
    " \n",
    "initialguess = [1,1]                     \n",
    "                                        \n",
    "fit, covariance = optimize.curve_fit(            \n",
    "        func,                                    \n",
    "        xdata,                                  \n",
    "        ydata,\n",
    "        initialguess,\n",
    "        yerr)                           \n",
    "\n",
    "print(\"m:\",fit[0],\"+-\",np.sqrt(covariance[0][0]))    \n",
    "print(\"b:\",fit[1],\"+-\",np.sqrt(covariance[1][1]))   \n",
    "\n",
    "xdatafit=np.linspace(min(xdata), max(xdata), 100) \n",
    "func_plot=func(xdatafit,*fit)       \n",
    "\n",
    "plt.plot(xdatafit, func_plot)                  \n",
    "plt.errorbar(xdata, ydata, yerr, fmt='k.')             \n",
    "xdatafit=np.linspace(min(xdata), max(xdata), 100)\n",
    "func_plot=func(xdatafit,*fit)    \n",
    "\n",
    "plt.title('Frequency vs. Onset Voltage')\n",
    "plt.xlabel('Frequency (Hz x 1e14)',fontsize = 18)\n",
    "plt.ylabel('Onset Voltage',fontsize = 18)\n",
    "\n",
    "trendline_points = [] # declaring array that will calulate y = mx+b of trendline at points of interest\n",
    "deltas = [] # array with absolute values of the differences of each point on our plot and its point on the trendline\n",
    "sum_of_deltas = 0 # declaring our sum of the deltas squared\n",
    "\n",
    "def func2(m,x,b):   # definding our trendline function with curvefit parameters\n",
    "    return m*x+b\n",
    "\n",
    "for i in range(len(arr1)):\n",
    "    trendline_points.append(func2(fit[0],arr1[i],fit[1]))  # calculate each point on the trendline\n",
    "    deltas.append(abs(arr2[i]-trendline_points[i]))        # find the difference between each point and the trend\n",
    "    sum_of_deltas = sum_of_deltas + (deltas[i]**2)         # sum these values\n",
    "    \n",
    "stddev = np.sqrt(sum_of_deltas/10)     # get std dev by taking squareroot of (sum_of_deltas)/10 because there are 10 points\n",
    "    \n",
    "print(trendline_points)\n",
    "print(deltas)\n",
    "print(sum_of_deltas)\n",
    "print(stddev)\n",
    "\n",
    "plt.show()\n",
    "plt.clf()"
   ]
  },
  {
   "cell_type": "code",
   "execution_count": null,
   "metadata": {},
   "outputs": [],
   "source": []
  },
  {
   "cell_type": "code",
   "execution_count": null,
   "metadata": {},
   "outputs": [],
   "source": []
  },
  {
   "cell_type": "code",
   "execution_count": null,
   "metadata": {},
   "outputs": [],
   "source": []
  },
  {
   "cell_type": "code",
   "execution_count": null,
   "metadata": {},
   "outputs": [],
   "source": []
  }
 ],
 "metadata": {
  "kernelspec": {
   "display_name": "Python 3",
   "language": "python",
   "name": "python3"
  },
  "language_info": {
   "codemirror_mode": {
    "name": "ipython",
    "version": 3
   },
   "file_extension": ".py",
   "mimetype": "text/x-python",
   "name": "python",
   "nbconvert_exporter": "python",
   "pygments_lexer": "ipython3",
   "version": "3.6.8"
  }
 },
 "nbformat": 4,
 "nbformat_minor": 2
}
