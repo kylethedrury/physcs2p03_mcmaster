{
 "cells": [
  {
   "cell_type": "code",
   "execution_count": 26,
   "metadata": {},
   "outputs": [
    {
     "name": "stdout",
     "output_type": "stream",
     "text": [
      "test10a.txt\n",
      "Linear Slope: 0.0003494894420904015 +- 7.704189472843029e-06\n",
      "Linear Intercept: -0.010037511442486349 +- 4.19634404329211e-05\n",
      "Be sure to use the correct number of significant digits in your final answer!!!!!!!!!!!!!\n",
      "test10b.txt\n",
      "Exp Slope: 0.19066291231395702 +- 0.02079008527905712\n",
      "Exp Intercept: 0.10592545662473607 +- 0.009241654792527922\n",
      "Be sure to use the correct number of significant digits in your final answer!!!!!!!!!!!!!\n"
     ]
    },
    {
     "data": {
      "image/png": "[encoded data removed]",
      "text/plain": [
       "<Figure size 432x288 with 1 Axes>"
      ]
     },
     "metadata": {
      "needs_background": "light"
     },
     "output_type": "display_data"
    },
    {
     "data": {
      "image/png": "[encoded data removed]",
      "text/plain": [
       "<Figure size 432x288 with 1 Axes>"
      ]
     },
     "metadata": {
      "needs_background": "light"
     },
     "output_type": "display_data"
    },
    {
     "name": "stdout",
     "output_type": "stream",
     "text": [
      "-0.6093262698832203 +- 0.01780757864881021\n"
     ]
    },
    {
     "data": {
      "text/plain": [
       "<Figure size 432x288 with 0 Axes>"
      ]
     },
     "metadata": {},
     "output_type": "display_data"
    }
   ],
   "source": [
    "import numpy as np                                # import packages and give them quick handles since they will be used often\n",
    "import matplotlib.pyplot as plt\n",
    "from scipy import optimize                        # import a specific function from a package: 'optimize' for curve fitting\n",
    "\n",
    "# Fit the linear part of the data\n",
    "file_nameA = 'test10a.txt'                          # replace with the name of your csv data file\n",
    "\n",
    "file_folderA = ''                                  # use this if your data file is in the same folder as your python program\n",
    "\n",
    "data_fileA = file_folderA + file_nameA\n",
    "print(data_fileA)\n",
    "\n",
    "\n",
    "xdataA, ydataA = np.loadtxt(                      \n",
    "        data_fileA,                               \n",
    "        delimiter = '\\t',                      \n",
    "        skiprows = 1,\n",
    "        usecols = (0, 1),                      \n",
    "        unpack = True)                            \n",
    "def funcA(x,m,b):                                 \n",
    "    return m*x+b                                \n",
    " \n",
    "initialguessA = [0,-1]                     \n",
    "                                        \n",
    "fitA, covarianceA = optimize.curve_fit(            \n",
    "        funcA,                                    \n",
    "        xdataA,                                  \n",
    "        ydataA,                                   \n",
    "        initialguessA)                           \n",
    "\n",
    "print(\"Linear Slope:\",fitA[0],\"+-\",np.sqrt(covarianceA[0][0]))    \n",
    "print(\"Linear Intercept:\",fitA[1],\"+-\",np.sqrt(covarianceA[1][1]))   \n",
    "print(\"Be sure to use the correct number of significant digits in your final answer!!!!!!!!!!!!!\")\n",
    "\n",
    "# Fit the exponential part of the data\n",
    "file_nameB = 'test10b.txt'                        \n",
    "\n",
    "file_folderB = ''                                \n",
    "data_fileB = file_folderB + file_nameB\n",
    "print(data_fileB)\n",
    "\n",
    "\n",
    "xdataB, ydataB = np.loadtxt(                       \n",
    "        data_fileB,                             \n",
    "        delimiter = '\\t',                       \n",
    "        skiprows = 1,\n",
    "        usecols = (0, 1),                       \n",
    "        unpack = True)                                                                                                                      \n",
    "\n",
    "def funcB(x,m,b):                               \n",
    "    return m*x+b                                \n",
    " \n",
    "initialguessB = [0,-1]                            \n",
    "\n",
    "fitB, covarianceB = optimize.curve_fit(           \n",
    "        funcB,                                    \n",
    "        xdataB,                                  \n",
    "        ydataB,                                  \n",
    "        initialguessB)                            \n",
    "\n",
    "print(\"Exp Slope:\",fitB[0],\"+-\",np.sqrt(covarianceB[0][0]))     \n",
    "print(\"Exp Intercept:\",fitB[1],\"+-\",np.sqrt(covarianceB[1][1]))   \n",
    "print(\"Be sure to use the correct number of significant digits in your final answer!!!!!!!!!!!!!\")\n",
    "\n",
    "# Store fit paramterers along with uncertainties in variables do propogate error into uncertainty of POI\n",
    "m_linear = fitA[0]\n",
    "m_linear_unc = np.sqrt(covarianceA[0][0])\n",
    "b_linear = fitA[1]\n",
    "b_linear_unc = np.sqrt(covarianceA[1][1]) \n",
    "\n",
    "m_exp = fitB[0]\n",
    "m_exp_unc = np.sqrt(covarianceB[0][0])\n",
    "b_exp = fitB[1]\n",
    "b_exp_unc = np.sqrt(covarianceB[1][1]) \n",
    "\n",
    "# Plotting data and fits\n",
    "\n",
    "xdataAfit=np.linspace(min(xdataA), max(xdataA), 100) \n",
    "funcA_plot=funcA(xdataAfit,*fitA)                     \n",
    "\n",
    "xdataBfit=np.linspace(min(xdataB), max(xdataB), 100) \n",
    "funcB_plot=funcB(xdataBfit,*fitB)                                                          \n",
    "\n",
    "plt.plot(xdataAfit, funcA_plot)                  \n",
    "plt.errorbar(xdataA, ydataA, fmt='k.')             \n",
    "xdataAfit=np.linspace(min(xdataA), max(xdataA), 100)\n",
    "funcA_plot=funcA(xdataAfit,*fitA)                    \n",
    "                                     \n",
    "plt.plot(xdataBfit, funcB_plot)                    \n",
    "plt.errorbar(xdataB, ydataB, fmt='k.') \n",
    "xdataBfit=np.linspace(min(xdataB), max(xdataB), 100)\n",
    "funcB_plot=funcB(xdataBfit,*fitB)\n",
    "\n",
    "plt.title('Voltage vs. Current')\n",
    "plt.xlabel('Voltage',fontsize = 18)\n",
    "plt.ylabel('Current',fontsize = 18)\n",
    "\n",
    "plt.show()      \n",
    "plt.clf()\n",
    "\n",
    "# Plotting residuals\n",
    "\n",
    "funcA_model=funcA(xdataA,*fitA)            \n",
    "residualA = (ydataA-funcA_model)                \n",
    "plt.errorbar(xdataA, residualA, fmt='k.')   \n",
    "plt.plot(xdataA, residualA)                  \n",
    "plt.axhline(y=0.0, color='r', linestyle='-') \n",
    "\n",
    "funcB_model=funcB(xdataB,*fitB)                 \n",
    "residualB = (ydataB-funcB_model)               \n",
    "plt.errorbar(xdataB, residualB, fmt='k.')    \n",
    "plt.plot(xdataB, residualB)                 \n",
    "plt.axhline(y=0.0, color='g', linestyle='-') \n",
    "\n",
    "plt.title('Residual')\n",
    "plt.xlabel('X',fontsize = 18)\n",
    "plt.ylabel('Y',fontsize = 18)    \n",
    "plt.show()\n",
    "plt.clf()\n",
    "\n",
    "# Calculating error on POI\n",
    "c = m_linear - m_exp\n",
    "d = b_exp - b_linear\n",
    "alphac = m_linear_unc + m_exp_unc\n",
    "alphad = b_exp_unc + b_linear_unc\n",
    "\n",
    "percenterror = (alphac/c) + (alphad/d) \n",
    "x = d/c \n",
    "alphax = percenterror*x\n",
    "\n",
    "print(x,\"+-\",alphax)"
   ]
  },
  {
   "cell_type": "code",
   "execution_count": null,
   "metadata": {},
   "outputs": [],
   "source": []
  },
  {
   "cell_type": "code",
   "execution_count": null,
   "metadata": {},
   "outputs": [],
   "source": []
  }
 ],
 "metadata": {
  "kernelspec": {
   "display_name": "Python 3",
   "language": "python",
   "name": "python3"
  },
  "language_info": {
   "codemirror_mode": {
    "name": "ipython",
    "version": 3
   },
   "file_extension": ".py",
   "mimetype": "text/x-python",
   "name": "python",
   "nbconvert_exporter": "python",
   "pygments_lexer": "ipython3",
   "version": "3.6.8"
  }
 },
 "nbformat": 4,
 "nbformat_minor": 2
}
